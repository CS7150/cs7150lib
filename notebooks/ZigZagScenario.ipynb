{
 "cells": [
  {
   "cell_type": "code",
   "execution_count": null,
   "id": "fbcfc45b",
   "metadata": {},
   "outputs": [],
   "source": [
    "%%bash\n",
    "# If you are on Google Colab, this sets up everything needed.\n",
    "# If not, you will want to pip install the cs7150lib as shown below.\n",
    "!(stat -t /usr/local/lib/*/dist-packages/google/colab > /dev/null 2>&1) && exit\n",
    "pip install git+https://github.com/cs7150/cs7150lib@main"
   ]
  },
  {
   "cell_type": "markdown",
   "id": "856a93ca",
   "metadata": {},
   "source": [
    "## Zig-zag optimization exercise.\n",
    "\n",
    "Run the visualization code below without changing it.  Exercise starts below."
   ]
  },
  {
   "cell_type": "code",
   "execution_count": null,
   "id": "c20ad4c3",
   "metadata": {},
   "outputs": [],
   "source": [
    "from baukit import Widget, PlotWidget, Range, Numberbox, show\n",
    "class HistoryVisualizer(Widget):\n",
    "    def __init__(self, data, labels, data_history, vec_history, weight_history):\n",
    "        super().__init__()\n",
    "        self.data = data\n",
    "        self.labels = labels\n",
    "        self.data_history = data_history\n",
    "        self.vec_history = vec_history\n",
    "        self.weight_history = weight_history\n",
    "        rw = Range(min=0, max=len(data_history)-1, value=0)\n",
    "        nb = Numberbox(value=rw.prop('value'), size=3)\n",
    "        pw = PlotWidget(self.plot_example, i=rw.prop('value'))\n",
    "        self.content = [[nb, show.style(flex=20), rw], pw]\n",
    "    \n",
    "    def widget_html(self):\n",
    "        return show.html(self.content)\n",
    "        \n",
    "    def plot_example(self, fig, i=0):\n",
    "        [ax] = fig.axes\n",
    "        ax.clear()\n",
    "        ax.scatter(*(self.data[self.labels == 0].t()))\n",
    "        ax.scatter(*(self.data[self.labels == 1].t()))\n",
    "        ax.set_ylim(-6, 6)\n",
    "        ax.set_xlim(-8, 8)\n",
    "        ax.axvline(0, c='gray', lw=0.5)\n",
    "        ax.axhline(0, c='gray', lw=0.5)\n",
    "\n",
    "        vec = self.vec_history[i]\n",
    "        w = self.weight_history[i]\n",
    "        d = self.data_history[i]\n",
    "        ax.scatter(*d, facecolor='none', edgecolor='red')\n",
    "        ax.quiver(0, 0, *(vec), color='red', angles='xy', scale_units='xy', scale=1, label='gradient')\n",
    "        ax.quiver(0, 0, *(w), color='blue', angles='xy', scale_units='xy', scale=1, label='weight')\n",
    "        s = w.norm()\n",
    "        ax.plot([10*w[1]/s, -10*w[1]/s], [-10*w[0]/s, 10*w[0]/s], lw=0.2, color='blue', linestyle='dashed')\n",
    "        ax.legend()"
   ]
  },
  {
   "cell_type": "markdown",
   "id": "a9e021e1",
   "metadata": {},
   "source": [
    "# Zig-zag puzzle\n",
    "\n",
    "This puzzle is about understanding what causes \"switchback\" problems in optimization.\n",
    "\n",
    "\n",
    "\n",
    "## First, define some simple training data.\n",
    "\n",
    "First, let's define some data.  This is a simple two-class classification problem in 2D.  Here is a plot."
   ]
  },
  {
   "cell_type": "code",
   "execution_count": null,
   "id": "bafc1b7a",
   "metadata": {},
   "outputs": [],
   "source": [
    "import torch, numpy\n",
    "from collections import OrderedDict\n",
    "from torch.nn import Sequential, Linear, ReLU, Sigmoid, Tanh\n",
    "from matplotlib import pyplot as plt\n",
    "\n",
    "data = torch.randn(100, 2) + torch.ones(1, 2) * 3.5\n",
    "labels = (data[:,0] > data[:,1]).long()\n",
    "plt.scatter(*(data[labels == 0].t()))\n",
    "plt.scatter(*(data[labels == 1].t()))\n",
    "plt.ylim(-6, 6)\n",
    "plt.xlim(-8, 8)\n",
    "plt.axvline(0, c='gray', lw=0.5)\n",
    "plt.axhline(0, c='gray', lw=0.5)\n",
    "plt.title('The data')\n",
    "plt.show()"
   ]
  },
  {
   "cell_type": "markdown",
   "id": "60cb5e3b",
   "metadata": {},
   "source": [
    "## Modeling the data\n",
    "\n",
    "Now let's model the data.\n",
    "\n",
    "I will begin with a single-layer (Rosenblatt-style) perceptron, but the same problem shows up with multiple layers.  You can try adding a second or third layer if you like."
   ]
  },
  {
   "cell_type": "code",
   "execution_count": null,
   "id": "92cf8a4e",
   "metadata": {},
   "outputs": [],
   "source": [
    "# For Exercise 1, just read and run the code.\n",
    "mlp = torch.nn.Sequential(OrderedDict([\n",
    "    ('layer1', Linear(2, 2, bias=False)),\n",
    "    # TODO: after experimenting, try adding more layers\n",
    "    #('ReLU', ReLU()),\n",
    "    #('layer2', Linear(2, 2, bias=False)),\n",
    "]))\n",
    "\n",
    "# I will initialize particular parameters, to show the problem\n",
    "with torch.no_grad():\n",
    "    mlp.layer1.weight[0, 0] = -1\n",
    "    mlp.layer1.weight[0, 1] = -1"
   ]
  },
  {
   "cell_type": "markdown",
   "id": "e1ece0d4",
   "metadata": {},
   "source": [
    "## Training the model\n",
    "\n",
    "Now we just train the model.\n",
    "\n",
    "We will compute gradients just one step at a time."
   ]
  },
  {
   "cell_type": "code",
   "execution_count": null,
   "id": "9d459e3e",
   "metadata": {},
   "outputs": [],
   "source": [
    "\n",
    "data_history = []\n",
    "vec_history = []\n",
    "weight_history = []\n",
    "\n",
    "for epoch in range(2):\n",
    "    for x, label in zip(data, labels):\n",
    "        logits = mlp(x[None])\n",
    "        loss = torch.nn.functional.cross_entropy(logits, label[None])\n",
    "        loss.backward()\n",
    "        data_history.append(x.clone())\n",
    "        vec = mlp.layer1.weight.grad\n",
    "        vec_history.append(vec[0,:].clone())\n",
    "        weight_history.append(mlp.layer1.weight[0,:].detach().clone())\n",
    "        with torch.no_grad():\n",
    "            for p in mlp.parameters():\n",
    "                p -= 0.01 * p.grad\n",
    "                p.grad = None\n",
    "\n",
    "show(show.TIGHT, [[HistoryVisualizer(data, labels, data_history, vec_history, weight_history)]])"
   ]
  },
  {
   "cell_type": "markdown",
   "id": "979c3134",
   "metadata": {},
   "source": [
    "## What has gone wrong?\n",
    "\n",
    "Now think about it: what has gone wrong in this optimization?\n",
    "\n",
    "You can understand the problem if you understand backpropagation well.\n",
    "\n",
    "We will work it out on the whiteboard."
   ]
  }
 ],
 "metadata": {
  "kernelspec": {
   "display_name": "Python 3 (ipykernel)",
   "language": "python",
   "name": "python3"
  },
  "language_info": {
   "codemirror_mode": {
    "name": "ipython",
    "version": 3
   },
   "file_extension": ".py",
   "mimetype": "text/x-python",
   "name": "python",
   "nbconvert_exporter": "python",
   "pygments_lexer": "ipython3",
   "version": "3.10.6"
  }
 },
 "nbformat": 4,
 "nbformat_minor": 5
}
