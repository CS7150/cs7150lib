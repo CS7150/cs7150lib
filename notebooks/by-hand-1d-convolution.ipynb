{
 "cells": [
  {
   "cell_type": "code",
   "execution_count": 1,
   "id": "66b52ad0",
   "metadata": {},
   "outputs": [],
   "source": [
    "import torch\n",
    "torch.set_grad_enabled(False)\n",
    "from matplotlib import pyplot as plt"
   ]
  },
  {
   "cell_type": "markdown",
   "id": "bbceb6b3",
   "metadata": {},
   "source": [
    "## The parameters are a picture of the data\n",
    "\n",
    "In this exercise, you will build convolutions by hand to find patterns in data.\n",
    "\n",
    "To simplify it, we will work with 1d convolutions.  Here is the example input data:"
   ]
  },
  {
   "cell_type": "code",
   "execution_count": 2,
   "id": "d0c0a63d",
   "metadata": {},
   "outputs": [
    {
     "data": {
      "image/png": "[encoded data removed]",
      "text/plain": [
       "<Figure size 1200x400 with 1 Axes>"
      ]
     },
     "metadata": {},
     "output_type": "display_data"
    }
   ],
   "source": [
    "data = torch.Tensor([\n",
    "    -1, -1, -1, -1, -1, -1, -1, -1, +1, -1, +1, -1, +1, +1, +1, +1, +1, -1, +1,\n",
    "    -1, +1, -1, +1, +1, +1, -1, +1, -1, +1, -1, +1, +1, +1, +1, +1, +1, +1, +1,\n",
    "    -1, +1, -1, +1, -1, +1, +1, -1, -1, +1, -1, -1, -1, -1, +1, +1, +1, +1, +1,\n",
    "])[None, None].float()\n",
    "\n",
    "def plot_data(batch_data, title=None):\n",
    "    data = batch_data[0,0]\n",
    "    fig, ax = plt.subplots(figsize=(12, 4))\n",
    "    ax.bar(range(len(data)), data)\n",
    "    ax.set_ylim(-1.5, 1.5)\n",
    "    ax.axhline(0, color='gray', linewidth=0.5)\n",
    "    if title:\n",
    "        ax.set_title(title)\n",
    "input_data = data.clone()\n",
    "plot_data(input_data, 'Input data')"
   ]
  },
  {
   "cell_type": "markdown",
   "id": "023042b9",
   "metadata": {},
   "source": [
    "Now, the goal is to match the following output:"
   ]
  },
  {
   "cell_type": "code",
   "execution_count": 3,
   "id": "6e752398",
   "metadata": {},
   "outputs": [
    {
     "data": {
      "image/png": "[encoded data removed]",
      "text/plain": [
       "<Figure size 1200x400 with 1 Axes>"
      ]
     },
     "metadata": {},
     "output_type": "display_data"
    }
   ],
   "source": [
    "goal_1 = torch.Tensor([[[\n",
    "    -1., -1., -1., -1., -1., -1., -1., -1., -1., -1., -1., -1., -1., -1.,\n",
    "    -1., -1., -1., -1., -1., -1., -1., -1., -1., -1., -1., -1., -1., -1.,\n",
    "    -1., -1., -1., -1., -1., -1., -1., -1., -1., -1., -1., -1., -1., -1.,\n",
    "    -1., -1., -1., -1., -1.,  1., -1., -1., -1., -1., -1., -1., -1., -1., -1.]]])\n",
    "plot_data(goal_1)"
   ]
  },
  {
   "cell_type": "markdown",
   "id": "429589c7",
   "metadata": {},
   "source": [
    "## Exercise 1\n",
    "\n",
    "Below is some code that defines a convolution, but it is missing specific parameters.  Your goal is to replace all the `0` values to get the right pattern matched."
   ]
  },
  {
   "cell_type": "code",
   "execution_count": 4,
   "id": "8206803f",
   "metadata": {},
   "outputs": [
    {
     "ename": "NameError",
     "evalue": "name 'conv' is not defined",
     "output_type": "error",
     "traceback": [
      "\u001b[0;31m---------------------------------------------------------------------------\u001b[0m",
      "\u001b[0;31mNameError\u001b[0m                                 Traceback (most recent call last)",
      "Input \u001b[0;32mIn [4]\u001b[0m, in \u001b[0;36m<cell line: 5>\u001b[0;34m()\u001b[0m\n\u001b[1;32m      2\u001b[0m     \u001b[38;5;28;01mdef\u001b[39;00m \u001b[38;5;21mforward\u001b[39m(\u001b[38;5;28mself\u001b[39m, x):\n\u001b[1;32m      3\u001b[0m         \u001b[38;5;28;01mreturn\u001b[39;00m x\u001b[38;5;241m.\u001b[39msign()\n\u001b[1;32m      5\u001b[0m net \u001b[38;5;241m=\u001b[39m torch\u001b[38;5;241m.\u001b[39mnn\u001b[38;5;241m.\u001b[39mSequential(\n\u001b[0;32m----> 6\u001b[0m     \u001b[43mconv\u001b[49m,\n\u001b[1;32m      7\u001b[0m     Sign()\n\u001b[1;32m      8\u001b[0m )\n\u001b[1;32m     10\u001b[0m conv \u001b[38;5;241m=\u001b[39m torch\u001b[38;5;241m.\u001b[39mnn\u001b[38;5;241m.\u001b[39mConv1d(\n\u001b[1;32m     11\u001b[0m     in_channels  \u001b[38;5;241m=\u001b[39m \u001b[38;5;241m1\u001b[39m,\n\u001b[1;32m     12\u001b[0m     out_channels \u001b[38;5;241m=\u001b[39m \u001b[38;5;241m1\u001b[39m,\n\u001b[1;32m     13\u001b[0m     kernel_size  \u001b[38;5;241m=\u001b[39m \u001b[38;5;241m5\u001b[39m,\n\u001b[1;32m     14\u001b[0m     padding      \u001b[38;5;241m=\u001b[39m \u001b[38;5;241m2\u001b[39m)\n\u001b[1;32m     16\u001b[0m \u001b[38;5;66;03m## TODO: edit the code below\u001b[39;00m\n",
      "\u001b[0;31mNameError\u001b[0m: name 'conv' is not defined"
     ]
    }
   ],
   "source": [
    "class Sign(torch.nn.Module):\n",
    "    def forward(self, x):\n",
    "        return x.sign()\n",
    "\n",
    "net = torch.nn.Sequential(\n",
    "    conv,\n",
    "    Sign()\n",
    ")\n",
    "\n",
    "conv = torch.nn.Conv1d(\n",
    "    in_channels  = 1,\n",
    "    out_channels = 1,\n",
    "    kernel_size  = 5,\n",
    "    padding      = 2)\n",
    "\n",
    "## TODO: edit the code below\n",
    "\n",
    "conv.weight[:,:,:] = torch.tensor([[\n",
    "    [0, 0, 0, 0, 0],    \n",
    "]])\n",
    "conv.bias[:] = torch.tensor(\n",
    "    [0]\n",
    "    \n",
    ")\n",
    "\n",
    "output = net(input_data)\n",
    "plot_data(output)"
   ]
  },
  {
   "cell_type": "markdown",
   "id": "c95342b3",
   "metadata": {},
   "source": [
    "## Exercise 1\n",
    "\n",
    "Now do it again, but try to obtain the following pattern"
   ]
  },
  {
   "cell_type": "code",
   "execution_count": null,
   "id": "e543950e",
   "metadata": {},
   "outputs": [],
   "source": [
    "goal_2 = torch.Tensor([[[\n",
    "    -1., -1., -1., -1., -1., -1., -1., -1., -1., -1.,  1., -1., -1., -1.,\n",
    "    -1., -1., -1., -1.,  1., -1.,  1., -1., -1., -1., -1., -1.,  1., -1.,\n",
    "     1., -1., -1., -1., -1., -1., -1., -1., -1., -1., -1.,  1., -1.,  1.,\n",
    "    -1., -1., -1., -1., -1., -1., -1., -1., -1., -1., -1., -1., -1., -1., -1.]]])\n",
    "plot_data(goal_2)"
   ]
  },
  {
   "cell_type": "code",
   "execution_count": null,
   "id": "2a318be1",
   "metadata": {},
   "outputs": [],
   "source": [
    "## TODO: edit this code.\n",
    "\n",
    "conv.weight[:,:,:] = torch.tensor([[\n",
    "    [0, 0, 0, 0, 0],    \n",
    "]])\n",
    "conv.bias[:] = torch.tensor(\n",
    "    [0]\n",
    "    \n",
    ")\n",
    "\n",
    "output = net(input_data)\n",
    "plot_data(output)"
   ]
  }
 ],
 "metadata": {
  "kernelspec": {
   "display_name": "Python 3 (ipykernel)",
   "language": "python",
   "name": "python3"
  },
  "language_info": {
   "codemirror_mode": {
    "name": "ipython",
    "version": 3
   },
   "file_extension": ".py",
   "mimetype": "text/x-python",
   "name": "python",
   "nbconvert_exporter": "python",
   "pygments_lexer": "ipython3",
   "version": "3.10.6"
  }
 },
 "nbformat": 4,
 "nbformat_minor": 5
}
